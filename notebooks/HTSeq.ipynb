{
 "cells": [
  {
   "cell_type": "code",
   "execution_count": 16,
   "metadata": {},
   "outputs": [
    {
     "name": "stderr",
     "output_type": "stream",
     "text": [
      "Matplotlib is building the font cache using fc-list. This may take a moment.\n"
     ]
    }
   ],
   "source": [
    "import HTSeq\n",
    "import numpy as np\n",
    "import itertools\n",
    "from matplotlib import pyplot "
   ]
  },
  {
   "cell_type": "markdown",
   "metadata": {},
   "source": [
    "## Accessed the data from HTSeq, and created an object of class FastqReader."
   ]
  },
  {
   "cell_type": "code",
   "execution_count": 17,
   "metadata": {},
   "outputs": [
    {
     "data": {
      "text/plain": [
       "<FastqReader object, connected to file name '/datasets/srp073813/SRR3438851_1.fastq.gz'>"
      ]
     },
     "execution_count": 17,
     "metadata": {},
     "output_type": "execute_result"
    }
   ],
   "source": [
    "fastq_file = HTSeq.FastqReader( \"/datasets/srp073813/SRR3438851_1.fastq.gz\")\n",
    "fastq_file"
   ]
  },
  {
   "cell_type": "markdown",
   "metadata": {},
   "source": [
    "## Used the islice function from itertools to cut after 10 reads"
   ]
  },
  {
   "cell_type": "code",
   "execution_count": 18,
   "metadata": {
    "scrolled": false
   },
   "outputs": [
    {
     "name": "stdout",
     "output_type": "stream",
     "text": [
      "ATCCATTCCAGGTGCTGGGTAATTTCGGTGAAGGGGGCACGGGTGCTGGG\n",
      "ATAGTATCCATCCAACATGAGCATGGCAAGGGAAGTGAGCTGAGCTGTGC\n",
      "GTTCAGTTACACACGGAGAAATTACATGTGGACCCAAACAGGCTCCTTTT\n",
      "GGAATGCACTACAACAGGAAAATCATATTATAGATGGAGTAAAGGTCCAG\n",
      "CAGTATATTAGTCAAATAGAAGCTTCATCAGAAATGTATCCCACATAGAG\n",
      "ACTCTGAGCCNTGTCATCCAAGCTACCAGTCCCTGCACAACCAAGGGGTT\n",
      "GTTCCAGGAGGATGAGACAGAGGTTCCACGTCTCCAGGCAAGCAGAGGAA\n",
      "CCTTGGAGGAGCCCCCTCTAAGTCCAGACGTGGAGGAGGAGGACGATGAC\n",
      "CAGCAGGTGATCTTTCTGTGTCTGGCGTATGCAGGAGGATATCTTTCTGT\n",
      "ACACTTGAACNTGCCTAGTGAGACAACCATGCGTATCCTGACTTTTTCTG\n"
     ]
    }
   ],
   "source": [
    "for read in itertools.islice( fastq_file, 10 ):\n",
    "    print(read)"
   ]
  },
  {
   "cell_type": "markdown",
   "metadata": {},
   "source": [
    "## The variable read still contains the tenth read"
   ]
  },
  {
   "cell_type": "code",
   "execution_count": 19,
   "metadata": {
    "scrolled": false
   },
   "outputs": [
    {
     "data": {
      "text/plain": [
       "<SequenceWithQualities object 'SRR3438851.10 10/1'>"
      ]
     },
     "metadata": {},
     "output_type": "display_data"
    },
    {
     "data": {
      "text/plain": [
       "'SRR3438851.10 10/1'"
      ]
     },
     "metadata": {},
     "output_type": "display_data"
    },
    {
     "data": {
      "text/plain": [
       "b'ACACTTGAACNTGCCTAGTGAGACAACCATGCGTATCCTGACTTTTTCTG'"
      ]
     },
     "metadata": {},
     "output_type": "display_data"
    },
    {
     "data": {
      "text/plain": [
       "array([34, 34, 34, 37, 37, 37, 37, 37, 39, 39,  2, 18, 32, 38, 40, 41, 41,\n",
       "       41, 40, 41, 41, 41, 40, 41, 41, 41, 41, 41, 41, 41, 41, 40, 41, 38,\n",
       "       40, 40, 40, 41, 41, 40, 41, 41, 41, 41, 41, 41, 41, 40, 40, 41],\n",
       "      dtype=uint8)"
      ]
     },
     "metadata": {},
     "output_type": "display_data"
    }
   ],
   "source": [
    "display(read)\n",
    "display(read.name)\n",
    "display(read.seq)\n",
    "display(read.qual)"
   ]
  },
  {
   "cell_type": "markdown",
   "metadata": {},
   "source": [
    "## Calculate the average quality score for each position in the reads by adding up the qual arrays from all reads and the dividing by the number of reads"
   ]
  },
  {
   "cell_type": "code",
   "execution_count": 24,
   "metadata": {},
   "outputs": [
    {
     "data": {
      "text/plain": [
       "50"
      ]
     },
     "metadata": {},
     "output_type": "display_data"
    },
    {
     "data": {
      "text/plain": [
       "array([32.563  , 32.799  , 32.967  , 36.20225, 36.16425, 36.18975,\n",
       "       36.111  , 36.05225, 37.78475, 37.7895 , 37.48525, 37.55625,\n",
       "       37.7055 , 39.28375, 39.35575, 39.35925, 39.295  , 39.206  ,\n",
       "       39.01775, 39.10975, 39.10075, 39.13725, 39.1715 , 39.13675,\n",
       "       38.979  , 39.00975, 39.03125, 38.89475, 38.877  , 38.79275,\n",
       "       38.68975, 38.6705 , 38.577  , 38.3885 , 38.28925, 38.2075 ,\n",
       "       38.205  , 38.1895 , 38.1645 , 37.994  , 38.11725, 38.0475 ,\n",
       "       37.949  , 37.855  , 37.818  , 37.78125, 37.59275, 37.4535 ,\n",
       "       37.14025, 35.24725])"
      ]
     },
     "metadata": {},
     "output_type": "display_data"
    }
   ],
   "source": [
    "display(len(read))\n",
    "qualsum = np.zeros( len(read), np.int )\n",
    "nreads = 0\n",
    "for read in itertools.islice( fastq_file, 4000 ):\n",
    "    qualsum += read.qual\n",
    "    nreads += 1\n",
    "display(qualsum / float(nreads) )"
   ]
  },
  {
   "cell_type": "code",
   "execution_count": 25,
   "metadata": {
    "scrolled": true
   },
   "outputs": [
    {
     "data": {
      "image/png": "[encoded data removed]",
      "text/plain": [
       "<Figure size 432x288 with 1 Axes>"
      ]
     },
     "metadata": {
      "needs_background": "light"
     },
     "output_type": "display_data"
    }
   ],
   "source": [
    "pyplot.plot( qualsum / nreads )\n",
    "pyplot.show() "
   ]
  }
 ],
 "metadata": {
  "kernelspec": {
   "display_name": "Python 3",
   "language": "python",
   "name": "python3"
  },
  "language_info": {
   "codemirror_mode": {
    "name": "ipython",
    "version": 3
   },
   "file_extension": ".py",
   "mimetype": "text/x-python",
   "name": "python",
   "nbconvert_exporter": "python",
   "pygments_lexer": "ipython3",
   "version": "3.7.6"
  }
 },
 "nbformat": 4,
 "nbformat_minor": 4
}
