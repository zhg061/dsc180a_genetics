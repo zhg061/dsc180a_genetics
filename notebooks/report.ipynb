{
 "cells": [
  {
   "cell_type": "code",
   "execution_count": 5,
   "metadata": {},
   "outputs": [
    {
     "ename": "ModuleNotFoundError",
     "evalue": "No module named 'BCBio'",
     "output_type": "error",
     "traceback": [
      "\u001b[0;31m\u001b[0m",
      "\u001b[0;31mModuleNotFoundError\u001b[0mTraceback (most recent call last)",
      "\u001b[0;32m<ipython-input-5-2ac42888fe05>\u001b[0m in \u001b[0;36m<module>\u001b[0;34m\u001b[0m\n\u001b[1;32m      1\u001b[0m \u001b[0;32mimport\u001b[0m \u001b[0mpprint\u001b[0m\u001b[0;34m\u001b[0m\u001b[0;34m\u001b[0m\u001b[0m\n\u001b[0;32m----> 2\u001b[0;31m \u001b[0;32mfrom\u001b[0m \u001b[0mBCBio\u001b[0m \u001b[0;32mimport\u001b[0m \u001b[0mGFF\u001b[0m\u001b[0;34m\u001b[0m\u001b[0;34m\u001b[0m\u001b[0m\n\u001b[0m\u001b[1;32m      3\u001b[0m \u001b[0;34m\u001b[0m\u001b[0m\n",
      "\u001b[0;31mModuleNotFoundError\u001b[0m: No module named 'BCBio'"
     ]
    }
   ],
   "source": [
    "import pprint\n",
    "from BCBio import GFF\n",
    "\n"
   ]
  },
  {
   "cell_type": "code",
   "execution_count": 4,
   "metadata": {},
   "outputs": [
    {
     "name": "stdout",
     "output_type": "stream",
     "text": [
      "<_io.TextIOWrapper name='/datasets/srp073813/reference/GRCh37_latest_genomic.gff' mode='r' encoding='UTF-8'>\n"
     ]
    }
   ],
   "source": [
    "in_file = \"/datasets/srp073813/reference/GRCh37_latest_genomic.gff\"\n",
    "# examiner = GFFExaminer()\n",
    "in_handle = open(in_file)\n",
    "pprint.pprint(in_handle)\n",
    "in_handle.close()"
   ]
  },
  {
   "cell_type": "markdown",
   "metadata": {},
   "source": [
    "# Replication Project\n",
    "This project structures a DS project that replicate the analysis of a genetical research paper. Although this project only implements the overall structure and its access to data currently, we expect it performs full functionality at the end.\n",
    "<br/><br/>\n",
    "# Running the project\n",
    "This project can be simply runned by commend line python run.py data. According to the data argument, the main function in run.py will load the stored path in config/data_params.json and use those paths to access the main dataset. The result of all filenames in dataset will be printted to store in an output.txt file."
   ]
  },
  {
   "cell_type": "code",
   "execution_count": null,
   "metadata": {},
   "outputs": [],
   "source": []
  }
 ],
 "metadata": {
  "kernelspec": {
   "display_name": "Python 3",
   "language": "python",
   "name": "python3"
  },
  "language_info": {
   "codemirror_mode": {
    "name": "ipython",
    "version": 3
   },
   "file_extension": ".py",
   "mimetype": "text/x-python",
   "name": "python",
   "nbconvert_exporter": "python",
   "pygments_lexer": "ipython3",
   "version": "3.7.6"
  }
 },
 "nbformat": 4,
 "nbformat_minor": 4
}
