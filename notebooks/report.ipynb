{
 "cells": [
  {
   "cell_type": "code",
   "execution_count": null,
   "metadata": {},
   "outputs": [],
   "source": []
  },
  {
   "cell_type": "markdown",
   "metadata": {},
   "source": [
    "# Replication Project\n",
    "This project structures a DS project that replicate the analysis of a genetical research paper. Although this project only implements the overall structure and its access to data currently, we expect it performs full functionality at the end.\n",
    "<br/><br/>\n",
    "# Running the project\n",
    "This project can be simply runned by commend line python run.py data. According to the data argument, the main function in run.py will load the stored path in config/data_params.json and use those paths to access the main dataset. The result of all filenames in dataset will be printted to store in an output.txt file."
   ]
  }
 ],
 "metadata": {
  "kernelspec": {
   "display_name": "Python 3",
   "language": "python",
   "name": "python3"
  },
  "language_info": {
   "codemirror_mode": {
    "name": "ipython",
    "version": 3
   },
   "file_extension": ".py",
   "mimetype": "text/x-python",
   "name": "python",
   "nbconvert_exporter": "python",
   "pygments_lexer": "ipython3",
   "version": "3.7.6"
  }
 },
 "nbformat": 4,
 "nbformat_minor": 4
}
